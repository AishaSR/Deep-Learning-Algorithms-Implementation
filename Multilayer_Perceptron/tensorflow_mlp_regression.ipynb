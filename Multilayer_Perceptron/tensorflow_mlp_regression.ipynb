{
  "cells": [
    {
      "metadata": {
        "_uuid": "8f2839f25d086af736a60e9eeb907d3b93b6e0e5",
        "_cell_guid": "b1076dfc-b9ad-4769-8c92-a6c4dae69d19",
        "trusted": true
      },
      "cell_type": "code",
      "source": "from __future__ import absolute_import, division, print_function\n\nimport tensorflow as tf\nimport numpy as np\n\nprint(tf.__version__)\nfrom sklearn.model_selection import train_test_split\nfrom sklearn.datasets.california_housing import fetch_california_housing",
      "execution_count": 214,
      "outputs": [
        {
          "output_type": "stream",
          "text": "1.11.0-rc1\n",
          "name": "stdout"
        }
      ]
    },
    {
      "metadata": {
        "trusted": true,
        "_uuid": "b75f3263e31749b6c39ab859513cbf6bf7f23f2a"
      },
      "cell_type": "code",
      "source": "cal_housing = fetch_california_housing()\n# split 80/20 train-test\nX_train, X_test, y_train, y_test = train_test_split(cal_housing.data,\n                                                    cal_housing.target,\n                                                        test_size=0.2,\n                                                        random_state=1)\nprint(X_train.shape)\nprint(X_test.shape)\nprint(y_train.shape)\nprint(y_test.shape)\n\nX_train = X_train / X_train.max(axis=0)\nX_test = X_test / X_test.max(axis=0)\ny_train = y_train / y_train.max(axis=0)\ny_test = y_test / y_test.max(axis=0)",
      "execution_count": 215,
      "outputs": [
        {
          "output_type": "stream",
          "text": "(16512, 8)\n(4128, 8)\n(16512,)\n(4128,)\n",
          "name": "stdout"
        }
      ]
    },
    {
      "metadata": {
        "trusted": true,
        "_uuid": "2189fe8a3dbaad9321ba08c894303244c955915f"
      },
      "cell_type": "code",
      "source": "def convert(x):\n    return tf.convert_to_tensor(x, dtype=tf.float32)\n\ny_test = convert(y_test)\nX_test = convert(X_test)",
      "execution_count": 216,
      "outputs": []
    },
    {
      "metadata": {
        "trusted": true,
        "_uuid": "061d0ded9fbc27bad44a6e144c64599d5abf2bd8"
      },
      "cell_type": "code",
      "source": "# Parameters\nalpha = 0.01\ntraining_epochs = 25\ndisplay_step = 1\nn_hidden = 5\n\n# tf Graph input\nX = tf.placeholder(tf.float32, shape=[None, 8])\nY = tf.placeholder(tf.float32, shape=[None])",
      "execution_count": 217,
      "outputs": []
    },
    {
      "metadata": {
        "trusted": true,
        "_uuid": "6a1f981329ecb8210125834b254ffdd3d366add8"
      },
      "cell_type": "code",
      "source": "# Store layers weight & bias\nweights = {\n    'h1': tf.Variable(tf.truncated_normal([8, 4], stddev=0.03)),\n    'out': tf.Variable(tf.truncated_normal([4, 1], stddev=0.03))\n}\nbiases = {\n    'b1': tf.Variable(tf.truncated_normal([4])),\n    'out': tf.Variable(tf.truncated_normal([1]))\n}",
      "execution_count": 218,
      "outputs": []
    },
    {
      "metadata": {
        "trusted": true,
        "_uuid": "2433e96d28fe0b29c0f3314c0a4468366b82b55f"
      },
      "cell_type": "code",
      "source": "\n# Create model\ndef neural_net(x):\n    layer_1 = tf.add(tf.matmul(x, weights['h1']), biases['b1'])\n    layer_1 = tf.sigmoid(layer_1)\n    # Output fully connected layer with a neuron for each class\n    out_layer = tf.matmul(layer_1, weights['out']) + biases['out']\n    out_layer = tf.sigmoid(out_layer)\n    return out_layer",
      "execution_count": 225,
      "outputs": []
    },
    {
      "metadata": {
        "trusted": true,
        "_uuid": "bf8167a72408961079ffcb354d5dae6c50b4995f"
      },
      "cell_type": "code",
      "source": "# Construct model\npred = neural_net(X)\n\n# Define loss and optimizer\nmse = tf.reduce_mean(tf.square(pred - Y))  # When this doesn't?\noptimizer = tf.train.GradientDescentOptimizer(learning_rate=alpha).minimize(mse)\n\ninit = tf.global_variables_initializer()",
      "execution_count": 226,
      "outputs": []
    },
    {
      "metadata": {
        "trusted": true,
        "_uuid": "6e26e6969da2d225ff5b49a6356ffaf4866eba4d",
        "scrolled": true
      },
      "cell_type": "code",
      "source": "with tf.Session() as sess:\n    sess.run(init)\n    # Training cycle\n    for epoch in range(training_epochs):\n        avg_cost = 0.\n        # Loop over all batches\n        for i in range(100):\n            # Run optimization op (backprop) and cost op (to get loss value)\n            _, msev = sess.run([optimizer, mse], feed_dict={X: X_train, Y: y_train})\n        # Display logs per epoch step\n        if epoch % display_step == 0:\n            print(\"Epoch:\", '%04d' % (epoch+1), \"mse=\", \\\n                \"{:.9f}\".format(msev))",
      "execution_count": 221,
      "outputs": [
        {
          "output_type": "stream",
          "text": "Epoch: 0001 mse= 0.084464736\nEpoch: 0002 mse= 0.068458036\nEpoch: 0003 mse= 0.060536671\nEpoch: 0004 mse= 0.056786817\nEpoch: 0005 mse= 0.055028331\nEpoch: 0006 mse= 0.054200422\nEpoch: 0007 mse= 0.053807683\nEpoch: 0008 mse= 0.053620007\nEpoch: 0009 mse= 0.053529758\nEpoch: 0010 mse= 0.053486161\nEpoch: 0011 mse= 0.053465024\nEpoch: 0012 mse= 0.053454753\nEpoch: 0013 mse= 0.053449750\nEpoch: 0014 mse= 0.053447310\nEpoch: 0015 mse= 0.053446118\nEpoch: 0016 mse= 0.053445540\nEpoch: 0017 mse= 0.053445254\nEpoch: 0018 mse= 0.053445116\nEpoch: 0019 mse= 0.053445052\nEpoch: 0020 mse= 0.053445011\nEpoch: 0021 mse= 0.053445000\nEpoch: 0022 mse= 0.053444989\nEpoch: 0023 mse= 0.053444985\nEpoch: 0024 mse= 0.053444985\nEpoch: 0025 mse= 0.053444982\n",
          "name": "stdout"
        }
      ]
    },
    {
      "metadata": {
        "trusted": true,
        "_uuid": "8596188dbbe26ab3f66490e9087492b6bea2d6f5"
      },
      "cell_type": "code",
      "source": "def calc(x, y):\n    # Returns predictions and error\n    predictions = neural_net(x)\n    error = tf.reduce_mean(tf.square(y - predictions))\n    return [ predictions, error ]",
      "execution_count": 233,
      "outputs": []
    },
    {
      "metadata": {
        "trusted": true,
        "_uuid": "13ce6c0174b9859c125b11c7f4506bcefa3c6193"
      },
      "cell_type": "code",
      "source": "test_cost = calc(X_test, y_test)[1]",
      "execution_count": 234,
      "outputs": []
    },
    {
      "metadata": {
        "trusted": true,
        "_uuid": "6cc02735e1e9b654efd5d4fff6674796008f79c4"
      },
      "cell_type": "code",
      "source": "with tf.Session() as sess:\n    sess.run(init)\n    print('Cost (MSE) for test data: {0}'.format(sess.run(test_cost)))",
      "execution_count": 235,
      "outputs": [
        {
          "output_type": "stream",
          "text": "Cost (MSE) for test data: 0.06500223278999329\n",
          "name": "stdout"
        }
      ]
    },
    {
      "metadata": {
        "trusted": true,
        "_uuid": "eff53abc8a14356cb7cc47c816fdc00a8c52593e"
      },
      "cell_type": "code",
      "source": "",
      "execution_count": null,
      "outputs": []
    }
  ],
  "metadata": {
    "kernelspec": {
      "display_name": "Python 3",
      "language": "python",
      "name": "python3"
    },
    "language_info": {
      "name": "python",
      "version": "3.6.6",
      "mimetype": "text/x-python",
      "codemirror_mode": {
        "name": "ipython",
        "version": 3
      },
      "pygments_lexer": "ipython3",
      "nbconvert_exporter": "python",
      "file_extension": ".py"
    }
  },
  "nbformat": 4,
  "nbformat_minor": 1
}