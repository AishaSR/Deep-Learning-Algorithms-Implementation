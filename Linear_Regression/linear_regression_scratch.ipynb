{
 "cells": [
  {
   "cell_type": "code",
   "execution_count": 9,
   "metadata": {},
   "outputs": [],
   "source": [
    "# Linear Regression implementation in Python\n",
    "# source: Post from Davi Frossard \n",
    "# https://www.cs.toronto.edu/~frossard/post/linear_regression/\n",
    "\n",
    "# importing libraries\n",
    "import numpy as np"
   ]
  },
  {
   "cell_type": "code",
   "execution_count": 18,
   "metadata": {},
   "outputs": [],
   "source": [
    "X = np.linspace(1, 10, 100)[:, np.newaxis]\n",
    "y = np.sin(X) + 0.1 * np.power(X, 2) + 0.5 * np.random.randn(100, 1)\n",
    "\n",
    "# normalizing X to keep the algorithm numerically stable\n",
    "X = X / np.max(X)"
   ]
  },
  {
   "cell_type": "code",
   "execution_count": 19,
   "metadata": {},
   "outputs": [],
   "source": [
    "X = np.hstack((np.ones_like(X), X))"
   ]
  },
  {
   "cell_type": "code",
   "execution_count": 27,
   "metadata": {},
   "outputs": [],
   "source": [
    "perm = np.random.permutation(len(X))\n",
    "div = 70"
   ]
  },
  {
   "cell_type": "code",
   "execution_count": 28,
   "metadata": {},
   "outputs": [],
   "source": [
    "train_X = X[perm[: div]]\n",
    "train_y = y[perm[: div]]\n",
    "test_X = X[perm[div:]]\n",
    "test_y = y[perm[div:]]"
   ]
  },
  {
   "cell_type": "code",
   "execution_count": 29,
   "metadata": {},
   "outputs": [],
   "source": [
    "# function to get the gradient and error\n",
    "def gradient(x, y, w):\n",
    "    y_pred = x.dot(w).flatten()\n",
    "    error = y.flatten() - y_pred\n",
    "    mse = (1.0/len(x)) * np.sum(np.power(error, 2))\n",
    "    grad = -(1.0/len(x)) * error.dot(x)\n",
    "    return grad, mse"
   ]
  },
  {
   "cell_type": "code",
   "execution_count": 30,
   "metadata": {},
   "outputs": [],
   "source": [
    "# initializing variables\n",
    "w = np.random.randn(2)\n",
    "alpha = 0.4\n",
    "tol = 1e-5"
   ]
  },
  {
   "cell_type": "code",
   "execution_count": 31,
   "metadata": {},
   "outputs": [
    {
     "name": "stdout",
     "output_type": "stream",
     "text": [
      "The algorithm converged!\n",
      "w = [0.99221417 0.83666821]\n",
      "Test Cost = 12.336365628491231\n"
     ]
    }
   ],
   "source": [
    "iteration = 1\n",
    "\n",
    "while True:\n",
    "    grad, err = gradient(train_X, train_y, w)\n",
    "    \n",
    "    #update the weights\n",
    "    w_curr =  - alpha * grad\n",
    "    \n",
    "    #stopping condition\n",
    "    if np.sum(abs(w - w_curr)) < tol:\n",
    "        print(\"The algorithm converged!\")\n",
    "        break\n",
    "    \n",
    "    if iteration % 100 == 0:\n",
    "        print(\"Iteration: {0}, Error: {1}\".format(iteration, err))\n",
    "    \n",
    "    iteration += 1\n",
    "    w = w_curr\n",
    "\n",
    "print(\"w = {0}\".format(w))\n",
    "print(\"Test Cost = {0}\".format(gradient(test_X, test_y, w)[1]))"
   ]
  },
  {
   "cell_type": "code",
   "execution_count": null,
   "metadata": {},
   "outputs": [],
   "source": []
  },
  {
   "cell_type": "code",
   "execution_count": null,
   "metadata": {},
   "outputs": [],
   "source": []
  }
 ],
 "metadata": {
  "kernelspec": {
   "display_name": "Python 3",
   "language": "python",
   "name": "python3"
  },
  "language_info": {
   "codemirror_mode": {
    "name": "ipython",
    "version": 3
   },
   "file_extension": ".py",
   "mimetype": "text/x-python",
   "name": "python",
   "nbconvert_exporter": "python",
   "pygments_lexer": "ipython3",
   "version": "3.6.5"
  }
 },
 "nbformat": 4,
 "nbformat_minor": 2
}
