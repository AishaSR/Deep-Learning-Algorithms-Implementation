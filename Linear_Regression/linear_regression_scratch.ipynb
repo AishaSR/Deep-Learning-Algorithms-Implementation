{
 "cells": [
  {
   "cell_type": "code",
   "execution_count": 48,
   "metadata": {},
   "outputs": [],
   "source": [
    "# Linear Regression implementation in Python\n",
    "# source: Post from Davi Frossard \n",
    "# https://www.cs.toronto.edu/~frossard/post/linear_regression/\n",
    "\n",
    "# importing libraries\n",
    "import numpy as np"
   ]
  },
  {
   "cell_type": "code",
   "execution_count": 49,
   "metadata": {},
   "outputs": [],
   "source": [
    "X = np.linspace(1, 10, 100)[:, np.newaxis]\n",
    "y = np.sin(X) + 0.1 * np.power(X, 2) + 0.5 * np.random.randn(100, 1)\n",
    "\n",
    "# normalizing X to keep the algorithm numerically stable\n",
    "X = X / np.max(X)"
   ]
  },
  {
   "cell_type": "code",
   "execution_count": 51,
   "metadata": {},
   "outputs": [],
   "source": [
    "perm = np.random.permutation(len(X))\n",
    "div = 70"
   ]
  },
  {
   "cell_type": "code",
   "execution_count": 52,
   "metadata": {},
   "outputs": [],
   "source": [
    "train_X = X[perm[: div]]\n",
    "train_y = y[perm[: div]]\n",
    "test_X = X[perm[div:]]\n",
    "test_y = y[perm[div:]]"
   ]
  },
  {
   "cell_type": "code",
   "execution_count": 53,
   "metadata": {},
   "outputs": [],
   "source": [
    "# function to get the gradient and the means squared error\n",
    "def gradient(x, y, w, b):\n",
    "    y_pred = x.dot(w).flatten() + b\n",
    "    error = y.flatten() - y_pred\n",
    "    mse = (1.0/len(x)) * np.sum(np.power(error, 2))\n",
    "    grad_w = -(2.0/len(x)) * error.dot(x)\n",
    "    grad_b = -(2.0/len(x)) * np.mean(error)\n",
    "    return grad_w, grad_b, mse"
   ]
  },
  {
   "cell_type": "code",
   "execution_count": 56,
   "metadata": {},
   "outputs": [],
   "source": [
    "# initializing variables\n",
    "w = np.random.randn(1)\n",
    "b = np.random.randn(1)\n",
    "alpha = 0.4\n",
    "tol = 1e-5"
   ]
  },
  {
   "cell_type": "code",
   "execution_count": 57,
   "metadata": {},
   "outputs": [
    {
     "name": "stdout",
     "output_type": "stream",
     "text": [
      "The algorithm converged!\n",
      "w = [0.94991798]\n",
      "Test Cost = 8.82107160176279\n"
     ]
    }
   ],
   "source": [
    "iteration = 1\n",
    "\n",
    "while True:\n",
    "    grad_w, grad_b, err = gradient(train_X, train_y, w, b)\n",
    "\n",
    "    #update the weights\n",
    "    w_curr =  - alpha * grad_w\n",
    "    b_curr = - alpha * grad_b\n",
    "    #stopping condition\n",
    "    if np.sum(w - w_curr) < tol:\n",
    "        print(\"The algorithm converged!\")\n",
    "        break\n",
    "\n",
    "    if iteration % 100 == 0:\n",
    "        print(\"Iteration: {0}, Error: {1}\".format(iteration, err))\n",
    "\n",
    "    iteration += 1\n",
    "    w = w_curr\n",
    "\n",
    "print(\"w = {0}\".format(w))\n",
    "print(\"Test Cost = {0}\".format(gradient(test_X, test_y, w, b)[2]))"
   ]
  },
  {
   "cell_type": "code",
   "execution_count": null,
   "metadata": {},
   "outputs": [],
   "source": []
  },
  {
   "cell_type": "code",
   "execution_count": null,
   "metadata": {},
   "outputs": [],
   "source": []
  }
 ],
 "metadata": {
  "kernelspec": {
   "display_name": "Python 3",
   "language": "python",
   "name": "python3"
  },
  "language_info": {
   "codemirror_mode": {
    "name": "ipython",
    "version": 3
   },
   "file_extension": ".py",
   "mimetype": "text/x-python",
   "name": "python",
   "nbconvert_exporter": "python",
   "pygments_lexer": "ipython3",
   "version": "3.6.5"
  }
 },
 "nbformat": 4,
 "nbformat_minor": 2
}
