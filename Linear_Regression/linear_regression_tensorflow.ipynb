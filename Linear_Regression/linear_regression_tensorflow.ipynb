{
 "cells": [
  {
   "cell_type": "code",
   "execution_count": 6,
   "metadata": {},
   "outputs": [],
   "source": [
    "import numpy as np\n",
    "import pandas as pd\n",
    "import tensorflow as tf"
   ]
  },
  {
   "cell_type": "code",
   "execution_count": 7,
   "metadata": {},
   "outputs": [],
   "source": [
    "def calc(x, y, w, b):\n",
    "    # Returns predictions and error\n",
    "    predictions = tf.multiply(x, w) + b\n",
    "    error = tf.reduce_mean(tf.square(y - predictions))\n",
    "    return [ predictions, error ]"
   ]
  },
  {
   "cell_type": "code",
   "execution_count": 8,
   "metadata": {},
   "outputs": [],
   "source": [
    "np.random.seed(1245)\n",
    "X = np.linspace(1, 10, 100)[:, np.newaxis]\n",
    "Y = np.sin(X) + 0.1 * np.power(X, 2) + 0.5 * np.random.randn(100, 1)\n",
    "\n",
    "# normalizing X to keep the algorithm numerically stable\n",
    "X = X / np.max(X)\n",
    "\n",
    "perm = np.random.permutation(len(X))\n",
    "div = 70\n",
    "\n",
    "train_X = X[perm[: div]]\n",
    "train_y = Y[perm[: div]]\n",
    "test_X = X[perm[div:]]\n",
    "test_y = Y[perm[div:]]\n"
   ]
  },
  {
   "cell_type": "code",
   "execution_count": 9,
   "metadata": {},
   "outputs": [],
   "source": [
    "# x and y are placeholders for our training data\n",
    "x = tf.placeholder(\"float64\")\n",
    "y = tf.placeholder(\"float64\")\n",
    "\n",
    "w = tf.Variable(np.random.randn(1), name = \"w\")\n",
    "b = tf.Variable(np.random.randn(1), name = \"b\")\n",
    "\n",
    "# Our model of y = a*x + b\n",
    "y_model = tf.multiply(x, w) + b\n",
    "\n",
    "# Our error is defined as the square of the differences\n",
    "error = tf.square(y - y_model)\n",
    "\n",
    "# The Gradient Descent Optimizer with a optimized implementation of gradient descent\n",
    "train_op = tf.train.GradientDescentOptimizer(0.4).minimize(error)\n",
    "\n",
    "# Normal TensorFlow - initialize values, create a session and run the model\n",
    "model = tf.global_variables_initializer()"
   ]
  },
  {
   "cell_type": "code",
   "execution_count": 10,
   "metadata": {},
   "outputs": [
    {
     "name": "stdout",
     "output_type": "stream",
     "text": [
      "Predicted model: [10.49069343]x + [-2.20276962]\n",
      "Test Cost = 1.259932334050175\n"
     ]
    }
   ],
   "source": [
    "with tf.Session() as session:\n",
    "    session.run(model)\n",
    "    for i in range(70):\n",
    "        x_value = train_X[i]\n",
    "        y_value = train_y[i]\n",
    "        session.run(train_op, feed_dict={x: x_value, y: y_value})\n",
    "\n",
    "    w_value = session.run(w)\n",
    "    b_value = session.run(b)\n",
    "    \n",
    "    print(\"Predicted model: {0}x + {1}\".format(w_value, b_value))\n",
    "    test_cost = session.run(calc(test_X, test_y, w_value, b_value)[1])\n",
    "    print(\"Test Cost = {0}\".format(test_cost))"
   ]
  },
  {
   "cell_type": "code",
   "execution_count": null,
   "metadata": {},
   "outputs": [],
   "source": []
  }
 ],
 "metadata": {
  "kernelspec": {
   "display_name": "Python 3",
   "language": "python",
   "name": "python3"
  },
  "language_info": {
   "codemirror_mode": {
    "name": "ipython",
    "version": 3
   },
   "file_extension": ".py",
   "mimetype": "text/x-python",
   "name": "python",
   "nbconvert_exporter": "python",
   "pygments_lexer": "ipython3",
   "version": "3.6.5"
  }
 },
 "nbformat": 4,
 "nbformat_minor": 2
}
